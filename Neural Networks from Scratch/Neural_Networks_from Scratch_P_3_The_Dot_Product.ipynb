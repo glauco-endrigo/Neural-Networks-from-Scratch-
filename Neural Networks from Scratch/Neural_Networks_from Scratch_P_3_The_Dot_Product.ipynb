{
 "cells": [
  {
   "cell_type": "markdown",
   "metadata": {},
   "source": [
    "# Neural Networks from Scratch with Python from the youtube channel sentdex <br />\n",
    "\n",
    "\"The goal is to break it down so much that it is panfully simple \"\n",
    "\n",
    "\n",
    "#### Episodes\n",
    "\n",
    "\n",
    "* [Neural Networks from Scratch - P.1 Intro and Neuron Code:](https://www.youtube.com/watch?v=Wo5dMEP_BbI)\n",
    "* [Neural Networks from Scratch - P.2 Coding a Layer:](https://www.youtube.com/watch?v=lGLto9Xd7bU)\n",
    "* [Neural Networks from Scratch - P.3 The Dot Product:](https://www.youtube.com/watch?v=tMrbN67U9d4)\n"
   ]
  },
  {
   "cell_type": "markdown",
   "metadata": {},
   "source": [
    "# Objective: \n",
    "\n",
    "Learn about Neural Networks from Scratch with Python .\n",
    "\n"
   ]
  },
  {
   "cell_type": "markdown",
   "metadata": {},
   "source": [
    "# Introduction: \n",
    "The purpuse is to know how neural networks works at a very deep level, because trying to solve more complex problems is gonna require a deep understand of how things actually work."
   ]
  },
  {
   "cell_type": "code",
   "execution_count": 2,
   "metadata": {},
   "outputs": [
    {
     "data": {
      "text/plain": [
       "array([4.8  , 1.21 , 2.385])"
      ]
     },
     "execution_count": 2,
     "metadata": {},
     "output_type": "execute_result"
    }
   ],
   "source": [
    "import numpy as np\n",
    "\n",
    "inputs =[1,2,3,2.5]\n",
    "weights = [[0.2,  0.8 ,-0.5,  1.0]\n",
    "          ,[0.5, -0.91, 0.26,-0.5]\n",
    "          ,[-0.26,-0.27, 0.17,0.87]]\n",
    " \n",
    "biases =[2,3,0.5]\n",
    "\n",
    "\n",
    "output = np.dot(weights,inputs) +biases\n",
    "output"
   ]
  },
  {
   "cell_type": "code",
   "execution_count": null,
   "metadata": {},
   "outputs": [],
   "source": []
  }
 ],
 "metadata": {
  "kernelspec": {
   "display_name": "Python 3",
   "language": "python",
   "name": "python3"
  },
  "language_info": {
   "codemirror_mode": {
    "name": "ipython",
    "version": 3
   },
   "file_extension": ".py",
   "mimetype": "text/x-python",
   "name": "python",
   "nbconvert_exporter": "python",
   "pygments_lexer": "ipython3",
   "version": "3.7.4"
  }
 },
 "nbformat": 4,
 "nbformat_minor": 2
}
