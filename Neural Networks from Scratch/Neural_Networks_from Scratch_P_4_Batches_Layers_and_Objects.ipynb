{
 "cells": [
  {
   "cell_type": "markdown",
   "metadata": {},
   "source": [
    "# Neural Networks from Scratch with Python from the youtube channel sentdex <br />\n",
    "\n",
    "\"The goal is to break it down so much that it is panfully simple \"\n",
    "\n",
    "\n",
    "#### Episodes\n",
    "\n",
    "\n",
    "* [Neural Networks from Scratch - P.1 Intro and Neuron Code:](https://www.youtube.com/watch?v=Wo5dMEP_BbI)\n",
    "* [Neural Networks from Scratch - P.2 Coding a Layer:](https://www.youtube.com/watch?v=lGLto9Xd7bU)\n",
    "* [Neural Networks from Scratch - P.3 The Dot Product:](https://www.youtube.com/watch?v=tMrbN67U9d4)\n",
    "* [Neural Networks from Scratch - P.4 Batches, Layers, and Objects:](https://www.youtube.com/watch?v=TEWy9vZcxW4)\n",
    "\n"
   ]
  },
  {
   "cell_type": "markdown",
   "metadata": {},
   "source": [
    "# Objective: \n",
    "\n",
    "Learn about Neural Networks from Scratch with Python .\n",
    "\n"
   ]
  },
  {
   "cell_type": "markdown",
   "metadata": {},
   "source": [
    "# Introduction: \n",
    "The purpuse is to know how neural networks works at a very deep level, because trying to solve more complex problems is gonna require a deep understand of how things actually work."
   ]
  },
  {
   "cell_type": "code",
   "execution_count": 5,
   "metadata": {},
   "outputs": [
    {
     "name": "stdout",
     "output_type": "stream",
     "text": [
      "[[-0.08495765 -0.08297912]\n",
      " [ 0.01072019 -0.04114708]\n",
      " [-0.06850198 -0.1187119 ]]\n"
     ]
    }
   ],
   "source": [
    "import numpy as np\n",
    "\n",
    "X =[[1,2,3,2.5]\n",
    "         ,[2.0,5.0,-1.0,2.0]\n",
    "         ,[1.5,2.7,3.3,-0.8]]\n",
    "         \n",
    "         \n",
    "class Layer_Dense:\n",
    "    def __init__(self,n_inputs,n_neurons):\n",
    "        self.weights = 0.10*np.random.randn(n_inputs,n_neurons)\n",
    "        self.biases  = np.zeros((1,n_neurons))\n",
    "    def forward(self,inputs):\n",
    "        self.output = np.dot(inputs, self.weights) + self.biases\n",
    "\n",
    "\n",
    "layer1 = Layer_Dense(4,5)  \n",
    "layer2 = Layer_Dense(5,2)    \n",
    "\n",
    "layer1.forward(X)\n",
    "layer2.forward(layer1.output)\n",
    "print(layer2.output)"
   ]
  },
  {
   "cell_type": "code",
   "execution_count": null,
   "metadata": {},
   "outputs": [],
   "source": []
  }
 ],
 "metadata": {
  "kernelspec": {
   "display_name": "Python 3",
   "language": "python",
   "name": "python3"
  },
  "language_info": {
   "codemirror_mode": {
    "name": "ipython",
    "version": 3
   },
   "file_extension": ".py",
   "mimetype": "text/x-python",
   "name": "python",
   "nbconvert_exporter": "python",
   "pygments_lexer": "ipython3",
   "version": "3.7.4"
  }
 },
 "nbformat": 4,
 "nbformat_minor": 2
}
