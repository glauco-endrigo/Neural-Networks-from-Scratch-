{
 "cells": [
  {
   "cell_type": "markdown",
   "metadata": {},
   "source": [
    "# Neural Networks from Scratch with Python from the youtube channel sentdex <br />\n",
    "\n",
    "\"The goal is to break it down so much that it is panfully simple \"\n",
    "\n",
    "\n",
    "#### Episodes\n",
    "\n",
    "\n",
    "* [Neural Networks from Scratch - P.1 Intro and Neuron Code:](https://www.youtube.com/watch?v=Wo5dMEP_BbI)\n",
    "* [Neural Networks from Scratch - P.2 Coding a Layer:](https://www.youtube.com/watch?v=lGLto9Xd7bU)\n",
    "* [Neural Networks from Scratch - P.3 The Dot Product:](https://www.youtube.com/watch?v=tMrbN67U9d4)\n",
    "* [Neural Networks from Scratch - P.4 Batches, Layers, and Objects:](https://www.youtube.com/watch?v=TEWy9vZcxW4)\n",
    "\n"
   ]
  },
  {
   "cell_type": "markdown",
   "metadata": {},
   "source": [
    "# Objective: \n",
    "\n",
    "Learn about Neural Networks from Scratch with Python .\n",
    "\n"
   ]
  },
  {
   "cell_type": "markdown",
   "metadata": {},
   "source": [
    "# Introduction: \n",
    "The purpuse is to know how neural networks works at a very deep level, because trying to solve more complex problems is gonna require a deep understand of how things actually work."
   ]
  },
  {
   "cell_type": "code",
   "execution_count": 3,
   "metadata": {},
   "outputs": [
    {
     "name": "stdout",
     "output_type": "stream",
     "text": [
      "[[ 4.8    1.21   2.385]\n",
      " [ 8.9   -1.81   0.2  ]\n",
      " [ 2.01   2.551 -0.754]]\n"
     ]
    },
    {
     "data": {
      "text/plain": [
       "array([[-1.8819 , -1.04185, -2.03875],\n",
       "       [ 0.0434 , -2.7332 , -5.7633 ],\n",
       "       [-0.77914,  1.54994,  0.57585]])"
      ]
     },
     "execution_count": 3,
     "metadata": {},
     "output_type": "execute_result"
    }
   ],
   "source": [
    "import numpy as np\n",
    "\n",
    "inputs =[[1,2,3,2.5]\n",
    "         ,[2.0,5.0,-1.0,2.0]\n",
    "         ,[1.5,2.7,3.3,-0.8]]\n",
    "         \n",
    "         \n",
    "weights = [[0.2,  0.8 ,-0.5,  1.0]\n",
    "          ,[0.5, -0.91, 0.26,-0.5]\n",
    "          ,[-0.26,-0.27, 0.17,0.87]]\n",
    " \n",
    "biases =[2,3,0.5]\n",
    "\n",
    "weights2 = [[0.1,  -0.14 ,-0.5]\n",
    "          ,[-0.5, 0.12, -0.33]\n",
    "          ,[-0.44,0.73,-0.13]]\n",
    " \n",
    "biases2 =[-1,2,-0.5]\n",
    "\n",
    "\n",
    "layer1_outputs = np.dot(inputs,np.array(weights).T) +biases\n",
    "print( layer1_outputs ) \n",
    "layer2_outputs = np.dot(layer1_outputs,np.array(weights2).T) +biases2\n",
    "layer2_outputs"
   ]
  },
  {
   "cell_type": "code",
   "execution_count": null,
   "metadata": {},
   "outputs": [],
   "source": []
  }
 ],
 "metadata": {
  "kernelspec": {
   "display_name": "Python 3",
   "language": "python",
   "name": "python3"
  },
  "language_info": {
   "codemirror_mode": {
    "name": "ipython",
    "version": 3
   },
   "file_extension": ".py",
   "mimetype": "text/x-python",
   "name": "python",
   "nbconvert_exporter": "python",
   "pygments_lexer": "ipython3",
   "version": "3.7.4"
  }
 },
 "nbformat": 4,
 "nbformat_minor": 2
}
