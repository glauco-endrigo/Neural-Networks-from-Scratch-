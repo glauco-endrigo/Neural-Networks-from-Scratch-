{
 "cells": [
  {
   "cell_type": "markdown",
   "metadata": {},
   "source": [
    "# Neural Networks from Scratch with Python from the youtube channel sentdex <br />\n",
    "\n",
    "\"The goal is to break it down so much that it is panfully simple \"\n",
    "\n",
    "\n",
    "#### Episodes\n",
    "\n",
    "\n",
    "* [Neural Networks from Scratch - P.1 Intro and Neuron Code:](https://www.youtube.com/watch?v=Wo5dMEP_BbI)\n"
   ]
  },
  {
   "cell_type": "markdown",
   "metadata": {},
   "source": [
    "# Objective: \n",
    "\n",
    "Learn about Neural Networks from Scratch with Python .\n",
    "\n"
   ]
  },
  {
   "cell_type": "markdown",
   "metadata": {},
   "source": [
    "# Introduction: \n",
    "The purpuse is to know how neural networks works at a very deep level, because trying to solve more complex problems is gonna require a deep understand of how things actually work."
   ]
  },
  {
   "cell_type": "code",
   "execution_count": null,
   "metadata": {},
   "outputs": [],
   "source": [
    "inputs =[1.2, 5.1,2.1]\n",
    "weights = [3.1,2.1,8.7]\n",
    "bias = 3 # every unique neoron has a unique bias \n",
    "\n",
    "output = inputs[0]*wights[0] +inputs[1]*wights[1]+inputs[2]*wights[2] + bias "
   ]
  }
 ],
 "metadata": {
  "kernelspec": {
   "display_name": "Python 3",
   "language": "python",
   "name": "python3"
  },
  "language_info": {
   "codemirror_mode": {
    "name": "ipython",
    "version": 3
   },
   "file_extension": ".py",
   "mimetype": "text/x-python",
   "name": "python",
   "nbconvert_exporter": "python",
   "pygments_lexer": "ipython3",
   "version": "3.7.4"
  }
 },
 "nbformat": 4,
 "nbformat_minor": 2
}
